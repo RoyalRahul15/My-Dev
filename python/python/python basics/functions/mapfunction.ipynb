{
 "cells": [
  {
   "cell_type": "markdown",
   "id": "5ceeb48f",
   "metadata": {},
   "source": [
    "### The Map() function in python\n",
    "\n",
    "The map() function applies a given function to all items in an input list(or any other iterables) and return a map object( an iterator). This is particularly useful for transforming data in a list comprehensively"
   ]
  },
  {
   "cell_type": "code",
   "execution_count": 3,
   "id": "f6462098",
   "metadata": {},
   "outputs": [
    {
     "data": {
      "text/plain": [
       "[1, 4, 9, 16, 25]"
      ]
     },
     "execution_count": 3,
     "metadata": {},
     "output_type": "execute_result"
    }
   ],
   "source": [
    "numbers = [1,2,3,4,5]\n",
    "def square(x):\n",
    "    return x*x\n",
    "\n",
    "\n",
    "list(map(square,numbers))"
   ]
  },
  {
   "cell_type": "code",
   "execution_count": 6,
   "id": "2b1225fe",
   "metadata": {},
   "outputs": [
    {
     "data": {
      "text/plain": [
       "[1, 4, 9, 16, 25]"
      ]
     },
     "execution_count": 6,
     "metadata": {},
     "output_type": "execute_result"
    }
   ],
   "source": [
    "list(map(lambda x:x*x,numbers))"
   ]
  },
  {
   "cell_type": "code",
   "execution_count": 10,
   "id": "994e58ae",
   "metadata": {},
   "outputs": [
    {
     "name": "stdout",
     "output_type": "stream",
     "text": [
      "[6, 8, 10, 12]\n"
     ]
    }
   ],
   "source": [
    "# taking two iterables and adding them using map and lambda\n",
    "\n",
    "number1=[1,2,3,4]\n",
    "number2=[5,6,7,8]\n",
    "\n",
    "adding_values=list(map(lambda x,y:x+y,number1,number2))\n",
    "print(adding_values)"
   ]
  },
  {
   "cell_type": "code",
   "execution_count": 11,
   "id": "b72e5df5",
   "metadata": {},
   "outputs": [
    {
     "name": "stdout",
     "output_type": "stream",
     "text": [
      "[1, 2, 3, 4, 5]\n"
     ]
    }
   ],
   "source": [
    "# convering a list of strings to int\n",
    "# using map()\n",
    "\n",
    "str_numbers = ['1','2','3','4','5']\n",
    "int_numbers = list(map(int,str_numbers))\n",
    "print(int_numbers)"
   ]
  },
  {
   "cell_type": "code",
   "execution_count": 16,
   "id": "8cebcf90",
   "metadata": {},
   "outputs": [
    {
     "name": "stdout",
     "output_type": "stream",
     "text": [
      "['RAHUL', 'ROYAL', 'WONDERFUL']\n"
     ]
    }
   ],
   "source": [
    "# convering a list of items to upper case\n",
    "words = ['rahul','royal','wonderful']\n",
    "conversion = list(map(str.upper, words))\n",
    "print(conversion)"
   ]
  },
  {
   "cell_type": "code",
   "execution_count": 17,
   "id": "1340a417",
   "metadata": {},
   "outputs": [
    {
     "name": "stdout",
     "output_type": "stream",
     "text": [
      "['rahul', 'royal', 'wonderful']\n"
     ]
    }
   ],
   "source": [
    "words1 = ['RAHUL', 'ROYAL', 'WONDERFUL']\n",
    "conversion1 = list(map(str.lower,words1))\n",
    "print(conversion1)"
   ]
  },
  {
   "cell_type": "code",
   "execution_count": 21,
   "id": "74c78477",
   "metadata": {},
   "outputs": [
    {
     "data": {
      "text/plain": [
       "[30, 45]"
      ]
     },
     "execution_count": 21,
     "metadata": {},
     "output_type": "execute_result"
    }
   ],
   "source": [
    "person = [\n",
    "    {'name':'Rahul','age': 30, 'occupation': 'Technical lead'},\n",
    "    {'name':'Royal','age':45,'occupation':'trilloner'}\n",
    "]\n",
    "\n",
    "def get_name(person):\n",
    "    return person['age']\n",
    "\n",
    "list(map(get_name,person))"
   ]
  },
  {
   "cell_type": "markdown",
   "id": "726b8894",
   "metadata": {},
   "source": [
    "## Conclusion \n",
    "The map() function is a powerful tool for applying  transformations to iterable data structures. it can be used with regular functions, lambda functions and even multiple iterables, provinding a versatile approach to data processsing python. By understanding and utlizing map(), you can write more efficient and readable code."
   ]
  }
 ],
 "metadata": {
  "kernelspec": {
   "display_name": "Python 3",
   "language": "python",
   "name": "python3"
  },
  "language_info": {
   "codemirror_mode": {
    "name": "ipython",
    "version": 3
   },
   "file_extension": ".py",
   "mimetype": "text/x-python",
   "name": "python",
   "nbconvert_exporter": "python",
   "pygments_lexer": "ipython3",
   "version": "3.9.13"
  }
 },
 "nbformat": 4,
 "nbformat_minor": 5
}
